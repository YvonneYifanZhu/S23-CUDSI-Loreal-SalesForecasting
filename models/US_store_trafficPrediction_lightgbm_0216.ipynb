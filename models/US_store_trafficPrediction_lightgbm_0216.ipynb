{
 "cells": [
  {
   "cell_type": "code",
   "execution_count": 68,
   "id": "5e8db1d3",
   "metadata": {},
   "outputs": [],
   "source": [
    "import lightgbm as lgb\n",
    "import pandas as pd\n",
    "import numpy as np\n",
    "from sklearn.metrics import mean_squared_error"
   ]
  },
  {
   "cell_type": "code",
   "execution_count": 69,
   "id": "d45d436c",
   "metadata": {},
   "outputs": [],
   "source": [
    "### data import need to change url\n",
    "data = pd.read_csv(\"/Users/ruijiezhang/capstone/traffic_cleaned_forPython.csv\", parse_dates=['day'])\n",
    "data.set_index('day', inplace=True)\n",
    "data.sort_index(inplace=True)\n",
    "\n",
    "### One hot encoding\n",
    "data = pd.get_dummies(data, dtype=\"bool\")\n",
    "\n",
    "### train test spilit\n",
    "target_col = 'CORE_VL_NbEntry'\n",
    "train_ratio = 0.7\n",
    "val_ratio = 0.2\n",
    "test_ratio = 0.1\n",
    "train_size = int(train_ratio * len(data))\n",
    "val_size = int(val_ratio * len(data))\n",
    "test_size = len(data) - train_size - val_size\n",
    "train_data = data.iloc[:train_size]\n",
    "val_data = data.iloc[train_size:train_size+val_size]\n",
    "test_data = data.iloc[-test_size:]\n",
    "feature_cols = [col for col in data.columns if col != target_col]\n",
    "X_train, y_train = train_data[feature_cols], train_data[target_col]\n",
    "X_val, y_val = val_data[feature_cols], val_data[target_col]\n",
    "X_test, y_test = test_data[feature_cols], test_data[target_col]"
   ]
  },
  {
   "cell_type": "code",
   "execution_count": 71,
   "id": "58631b0d",
   "metadata": {},
   "outputs": [],
   "source": [
    "## Dataset assignment\n",
    "train_lgb = lgb.Dataset(X_train, label=y_train, free_raw_data=False)\n",
    "val_lgb = lgb.Dataset(X_val, label=y_val, reference=train_lgb, free_raw_data=False)\n",
    "\n"
   ]
  },
  {
   "cell_type": "code",
   "execution_count": 77,
   "id": "2a210672",
   "metadata": {},
   "outputs": [],
   "source": [
    "### hyperparameter \n",
    "params = {\n",
    "    'objective': 'regression',\n",
    "    'metric': 'rmse',\n",
    "    'num_leaves': 31,\n",
    "    'learning_rate': 0.05,\n",
    "    'n_estimators': 100\n",
    "}"
   ]
  },
  {
   "cell_type": "code",
   "execution_count": 78,
   "id": "19032699",
   "metadata": {},
   "outputs": [
    {
     "name": "stderr",
     "output_type": "stream",
     "text": [
      "/Users/ruijiezhang/opt/anaconda3/lib/python3.9/site-packages/lightgbm/engine.py:148: UserWarning: Found `n_estimators` in params. Will use it instead of argument\n",
      "  _log_warning(\"Found `{}` in params. Will use it instead of argument\".format(alias))\n"
     ]
    },
    {
     "name": "stdout",
     "output_type": "stream",
     "text": [
      "[LightGBM] [Warning] Find whitespaces in feature_names, replace with underlines\n",
      "[LightGBM] [Warning] Auto-choosing row-wise multi-threading, the overhead of testing was 0.022387 seconds.\n",
      "You can set `force_row_wise=true` to remove the overhead.\n",
      "And if memory is not enough, you can set `force_col_wise=true`.\n",
      "[LightGBM] [Info] Total Bins 655\n",
      "[LightGBM] [Info] Number of data points in the train set: 132265, number of used features: 176\n",
      "[LightGBM] [Info] Start training from score 46.507330\n",
      "[1]\tvalid_0's rmse: 37.6295\n",
      "Training until validation scores don't improve for 10 rounds\n",
      "[2]\tvalid_0's rmse: 36.6746\n",
      "[3]\tvalid_0's rmse: 35.8427\n",
      "[4]\tvalid_0's rmse: 35.1047\n",
      "[5]\tvalid_0's rmse: 34.4794\n",
      "[6]\tvalid_0's rmse: 33.9346\n",
      "[7]\tvalid_0's rmse: 33.4803\n",
      "[8]\tvalid_0's rmse: 33.0951\n",
      "[9]\tvalid_0's rmse: 32.7928\n",
      "[10]\tvalid_0's rmse: 32.5317\n",
      "[11]\tvalid_0's rmse: 32.333\n",
      "[12]\tvalid_0's rmse: 32.1882\n",
      "[13]\tvalid_0's rmse: 32.0868\n",
      "[14]\tvalid_0's rmse: 32.0248\n",
      "[15]\tvalid_0's rmse: 31.9812\n",
      "[16]\tvalid_0's rmse: 31.971\n",
      "[17]\tvalid_0's rmse: 31.9918\n",
      "[18]\tvalid_0's rmse: 32.027\n",
      "[19]\tvalid_0's rmse: 32.0874\n",
      "[20]\tvalid_0's rmse: 32.1509\n",
      "[21]\tvalid_0's rmse: 32.2311\n",
      "[22]\tvalid_0's rmse: 32.3123\n",
      "[23]\tvalid_0's rmse: 32.4068\n",
      "[24]\tvalid_0's rmse: 32.5083\n",
      "[25]\tvalid_0's rmse: 32.6115\n",
      "[26]\tvalid_0's rmse: 32.7172\n",
      "Early stopping, best iteration is:\n",
      "[16]\tvalid_0's rmse: 31.971\n"
     ]
    }
   ],
   "source": [
    "### model fitting\n",
    "model = lgb.train(params, train_lgb, valid_sets=[val_lgb], early_stopping_rounds=10)"
   ]
  },
  {
   "cell_type": "code",
   "execution_count": 79,
   "id": "be525ae1",
   "metadata": {},
   "outputs": [
    {
     "name": "stdout",
     "output_type": "stream",
     "text": [
      "Test RMSE: 24.69\n"
     ]
    }
   ],
   "source": [
    "# Evaluate model on test data\n",
    "y_pred = model.predict(X_test)\n",
    "rmse = mean_squared_error(y_test, y_pred, squared=False)\n",
    "print(f\"Test RMSE: {rmse:.2f}\")"
   ]
  },
  {
   "cell_type": "code",
   "execution_count": 80,
   "id": "5d174488",
   "metadata": {},
   "outputs": [
    {
     "data": {
      "text/plain": [
       "48.867580194976625"
      ]
     },
     "execution_count": 80,
     "metadata": {},
     "output_type": "execute_result"
    }
   ],
   "source": [
    "y_pred.mean()"
   ]
  },
  {
   "cell_type": "code",
   "execution_count": null,
   "id": "7496233a",
   "metadata": {},
   "outputs": [],
   "source": []
  }
 ],
 "metadata": {
  "kernelspec": {
   "display_name": "Python 3 (ipykernel)",
   "language": "python",
   "name": "python3"
  },
  "language_info": {
   "codemirror_mode": {
    "name": "ipython",
    "version": 3
   },
   "file_extension": ".py",
   "mimetype": "text/x-python",
   "name": "python",
   "nbconvert_exporter": "python",
   "pygments_lexer": "ipython3",
   "version": "3.9.12"
  }
 },
 "nbformat": 4,
 "nbformat_minor": 5
}
